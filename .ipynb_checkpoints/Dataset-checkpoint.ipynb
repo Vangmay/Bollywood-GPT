{
 "cells": [
  {
   "cell_type": "code",
   "execution_count": 144,
   "id": "1ae047f0-39e8-46a2-982d-4d6a5e9b72f2",
   "metadata": {},
   "outputs": [],
   "source": [
    "import pandas as pd\n",
    "pd.options.mode.chained_assignment = None"
   ]
  },
  {
   "cell_type": "code",
   "execution_count": null,
   "id": "535ef06d-6aec-49e7-9b6e-4de820783ffc",
   "metadata": {},
   "outputs": [],
   "source": []
  },
  {
   "cell_type": "code",
   "execution_count": 145,
   "id": "60783c25-9f7e-4ed0-9f7d-2b07a9e3d86c",
   "metadata": {},
   "outputs": [],
   "source": [
    "df = pd.read_csv(\"./bollywood_full.csv\")"
   ]
  },
  {
   "cell_type": "code",
   "execution_count": 146,
   "id": "8feec191-6959-447b-9245-01efff395dbd",
   "metadata": {},
   "outputs": [
    {
     "data": {
      "text/plain": [
       "Index(['title_x', 'imdb_id', 'poster_path', 'wiki_link', 'title_y',\n",
       "       'original_title', 'is_adult', 'year_of_release', 'runtime', 'genres',\n",
       "       'imdb_rating', 'imdb_votes', 'story', 'summary', 'tagline', 'actors',\n",
       "       'wins_nominations', 'release_date'],\n",
       "      dtype='object')"
      ]
     },
     "execution_count": 146,
     "metadata": {},
     "output_type": "execute_result"
    }
   ],
   "source": [
    "df.columns"
   ]
  },
  {
   "cell_type": "code",
   "execution_count": 176,
   "id": "b34e986f-4815-44cc-94d6-18de574bc0c0",
   "metadata": {},
   "outputs": [],
   "source": [
    "# Interesting fields: Original_title, genres, story, actors"
   ]
  },
  {
   "cell_type": "code",
   "execution_count": 148,
   "id": "d0566294-a89c-48ea-b2c7-7d4d4ec45271",
   "metadata": {},
   "outputs": [],
   "source": [
    "# Let the input be genres and output be something like Original_title: , Summary: , actors: "
   ]
  },
  {
   "cell_type": "code",
   "execution_count": 149,
   "id": "372fdc21-c23b-42bd-ae59-92bebcfb0b33",
   "metadata": {},
   "outputs": [
    {
     "data": {
      "text/plain": [
       "['Action', 'Drama', 'War']"
      ]
     },
     "execution_count": 149,
     "metadata": {},
     "output_type": "execute_result"
    }
   ],
   "source": [
    "df[\"genres\"][0].split(\"|\")"
   ]
  },
  {
   "cell_type": "code",
   "execution_count": 177,
   "id": "824a45d7-6cae-47d5-8b8e-09bb88765ae9",
   "metadata": {},
   "outputs": [],
   "source": [
    "df[\"input\"] = df.genres"
   ]
  },
  {
   "cell_type": "code",
   "execution_count": 178,
   "id": "2a7edb98-f3c2-4a57-92ea-7bdc9b3ab7f5",
   "metadata": {},
   "outputs": [],
   "source": [
    "for i, item in enumerate(df[\"input\"]):\n",
    "    df[\"input\"][i] = df[\"input\"][i].split(\"|\")"
   ]
  },
  {
   "cell_type": "code",
   "execution_count": 179,
   "id": "2733d481-38e5-4957-85b2-3c33c322d85a",
   "metadata": {},
   "outputs": [
    {
     "data": {
      "text/plain": [
       "0       [Action, Drama, War]\n",
       "1                      [War]\n",
       "2         [Biography, Drama]\n",
       "3             [Crime, Drama]\n",
       "4                    [Drama]\n",
       "                ...         \n",
       "4325                 [Drama]\n",
       "4326                 [Drama]\n",
       "4327         [Drama, Family]\n",
       "4328                 [Drama]\n",
       "4329                 [Drama]\n",
       "Name: input, Length: 4330, dtype: object"
      ]
     },
     "execution_count": 179,
     "metadata": {},
     "output_type": "execute_result"
    }
   ],
   "source": [
    "df[\"input\"]"
   ]
  },
  {
   "cell_type": "code",
   "execution_count": 181,
   "id": "bad7df0d-aa80-4459-97d4-dd838cd1c08d",
   "metadata": {},
   "outputs": [],
   "source": [
    "titles = df[\"original_title\"]"
   ]
  },
  {
   "cell_type": "code",
   "execution_count": 182,
   "id": "3a9dd16d-4916-40a6-9290-1e4cfa7e25e8",
   "metadata": {},
   "outputs": [],
   "source": [
    "story = df[\"story\"]"
   ]
  },
  {
   "cell_type": "code",
   "execution_count": 184,
   "id": "466beac1-3ed8-4c79-9e92-df3fe69d0b02",
   "metadata": {},
   "outputs": [],
   "source": [
    "actors = df[\"actors\"]"
   ]
  },
  {
   "cell_type": "code",
   "execution_count": 189,
   "id": "1efdc46c-e047-41f1-ace5-4de0ae26601e",
   "metadata": {},
   "outputs": [],
   "source": [
    "output = \"title: \" + titles + \"\\n\" + \"Story: \" + story + \"\\n\" + \"Suitable Actors: \" + actors"
   ]
  },
  {
   "cell_type": "code",
   "execution_count": 202,
   "id": "8171b23f-eaae-4fa1-835c-adf84ab33178",
   "metadata": {},
   "outputs": [
    {
     "data": {
      "text/plain": [
       "0       [Action, Drama, War]\n",
       "1                      [War]\n",
       "2         [Biography, Drama]\n",
       "3             [Crime, Drama]\n",
       "4                    [Drama]\n",
       "                ...         \n",
       "4325                 [Drama]\n",
       "4326                 [Drama]\n",
       "4327         [Drama, Family]\n",
       "4328                 [Drama]\n",
       "4329                 [Drama]\n",
       "Name: input, Length: 4330, dtype: object"
      ]
     },
     "execution_count": 202,
     "metadata": {},
     "output_type": "execute_result"
    }
   ],
   "source": [
    "df[\"input\"]"
   ]
  },
  {
   "cell_type": "code",
   "execution_count": 192,
   "id": "2f2e5d81-4129-47fa-842d-5d967471db22",
   "metadata": {},
   "outputs": [
    {
     "data": {
      "text/plain": [
       "0       Summary: Indian army special forces execute a ...\n",
       "1       Summary: The story of Battalion 609 revolves a...\n",
       "2       Summary: Explores Manmohan Singh's tenure as t...\n",
       "3       Summary: The movie focuses on existing malprac...\n",
       "4       Summary: Under the 'Evening Shadows'  truth of...\n",
       "                              ...                        \n",
       "4325    Summary: The story is based on the true incide...\n",
       "4326    Summary: After the death of his wife  a police...\n",
       "4327                                Summary: Add a Plot »\n",
       "4328    Summary: Thakur Jaspal Singh lives in the pres...\n",
       "4329                                Summary: Add a Plot »\n",
       "Name: output, Length: 4330, dtype: object"
      ]
     },
     "execution_count": 192,
     "metadata": {},
     "output_type": "execute_result"
    }
   ],
   "source": [
    "df[\"output\"]"
   ]
  },
  {
   "cell_type": "code",
   "execution_count": 203,
   "id": "80ffaa38-3ee4-4a6e-9e2d-9db6dbf101ee",
   "metadata": {},
   "outputs": [],
   "source": [
    "dataset = pd.DataFrame({\"input\" :df[\"input\"], \"output\" : df[\"output\"]})"
   ]
  },
  {
   "cell_type": "code",
   "execution_count": 204,
   "id": "5466455c-7666-4b22-95a9-223aed00d7cd",
   "metadata": {},
   "outputs": [
    {
     "data": {
      "text/html": [
       "<div>\n",
       "<style scoped>\n",
       "    .dataframe tbody tr th:only-of-type {\n",
       "        vertical-align: middle;\n",
       "    }\n",
       "\n",
       "    .dataframe tbody tr th {\n",
       "        vertical-align: top;\n",
       "    }\n",
       "\n",
       "    .dataframe thead th {\n",
       "        text-align: right;\n",
       "    }\n",
       "</style>\n",
       "<table border=\"1\" class=\"dataframe\">\n",
       "  <thead>\n",
       "    <tr style=\"text-align: right;\">\n",
       "      <th></th>\n",
       "      <th>input</th>\n",
       "      <th>output</th>\n",
       "    </tr>\n",
       "  </thead>\n",
       "  <tbody>\n",
       "    <tr>\n",
       "      <th>0</th>\n",
       "      <td>[Action, Drama, War]</td>\n",
       "      <td>Summary: Indian army special forces execute a ...</td>\n",
       "    </tr>\n",
       "    <tr>\n",
       "      <th>1</th>\n",
       "      <td>[War]</td>\n",
       "      <td>Summary: The story of Battalion 609 revolves a...</td>\n",
       "    </tr>\n",
       "    <tr>\n",
       "      <th>2</th>\n",
       "      <td>[Biography, Drama]</td>\n",
       "      <td>Summary: Explores Manmohan Singh's tenure as t...</td>\n",
       "    </tr>\n",
       "    <tr>\n",
       "      <th>3</th>\n",
       "      <td>[Crime, Drama]</td>\n",
       "      <td>Summary: The movie focuses on existing malprac...</td>\n",
       "    </tr>\n",
       "    <tr>\n",
       "      <th>4</th>\n",
       "      <td>[Drama]</td>\n",
       "      <td>Summary: Under the 'Evening Shadows'  truth of...</td>\n",
       "    </tr>\n",
       "    <tr>\n",
       "      <th>...</th>\n",
       "      <td>...</td>\n",
       "      <td>...</td>\n",
       "    </tr>\n",
       "    <tr>\n",
       "      <th>4325</th>\n",
       "      <td>[Drama]</td>\n",
       "      <td>Summary: The story is based on the true incide...</td>\n",
       "    </tr>\n",
       "    <tr>\n",
       "      <th>4326</th>\n",
       "      <td>[Drama]</td>\n",
       "      <td>Summary: After the death of his wife  a police...</td>\n",
       "    </tr>\n",
       "    <tr>\n",
       "      <th>4327</th>\n",
       "      <td>[Drama, Family]</td>\n",
       "      <td>Summary: Add a Plot »</td>\n",
       "    </tr>\n",
       "    <tr>\n",
       "      <th>4328</th>\n",
       "      <td>[Drama]</td>\n",
       "      <td>Summary: Thakur Jaspal Singh lives in the pres...</td>\n",
       "    </tr>\n",
       "    <tr>\n",
       "      <th>4329</th>\n",
       "      <td>[Drama]</td>\n",
       "      <td>Summary: Add a Plot »</td>\n",
       "    </tr>\n",
       "  </tbody>\n",
       "</table>\n",
       "<p>4330 rows × 2 columns</p>\n",
       "</div>"
      ],
      "text/plain": [
       "                     input                                             output\n",
       "0     [Action, Drama, War]  Summary: Indian army special forces execute a ...\n",
       "1                    [War]  Summary: The story of Battalion 609 revolves a...\n",
       "2       [Biography, Drama]  Summary: Explores Manmohan Singh's tenure as t...\n",
       "3           [Crime, Drama]  Summary: The movie focuses on existing malprac...\n",
       "4                  [Drama]  Summary: Under the 'Evening Shadows'  truth of...\n",
       "...                    ...                                                ...\n",
       "4325               [Drama]  Summary: The story is based on the true incide...\n",
       "4326               [Drama]  Summary: After the death of his wife  a police...\n",
       "4327       [Drama, Family]                              Summary: Add a Plot »\n",
       "4328               [Drama]  Summary: Thakur Jaspal Singh lives in the pres...\n",
       "4329               [Drama]                              Summary: Add a Plot »\n",
       "\n",
       "[4330 rows x 2 columns]"
      ]
     },
     "execution_count": 204,
     "metadata": {},
     "output_type": "execute_result"
    }
   ],
   "source": [
    "dataset"
   ]
  },
  {
   "cell_type": "code",
   "execution_count": 205,
   "id": "116e0acb-555d-42c6-a8f9-a5845eeb2b0f",
   "metadata": {},
   "outputs": [],
   "source": [
    "dataset.to_csv(\"./bollywood_plots.csv\")"
   ]
  },
  {
   "cell_type": "code",
   "execution_count": null,
   "id": "edf27e83-c525-4bc9-99c6-e129b440ffea",
   "metadata": {},
   "outputs": [],
   "source": [
    "from transformers import AutoTokenizer, AutoModelForCausalLM\n",
    "\n",
    "tokenizer = AutoTokenizer.from_pretrained(\"meta-llama/Meta-Llama-3-8B\")\n",
    "model = AutoModelForCausalLM.from_pretrained(\"meta-llama/Meta-Llama-3-8B\")\n",
    "def tokenize_function(texts):\n",
    "    return tokenizer(texts, padding='max_length', truncation=True, return_tensors=\"pt\")\n",
    "\n",
    "tokenized_datasets = [tokenize_function(plot) for plot in plots]"
   ]
  }
 ],
 "metadata": {
  "kernelspec": {
   "display_name": "Python 3 (ipykernel)",
   "language": "python",
   "name": "python3"
  },
  "language_info": {
   "codemirror_mode": {
    "name": "ipython",
    "version": 3
   },
   "file_extension": ".py",
   "mimetype": "text/x-python",
   "name": "python",
   "nbconvert_exporter": "python",
   "pygments_lexer": "ipython3",
   "version": "3.11.4"
  }
 },
 "nbformat": 4,
 "nbformat_minor": 5
}
